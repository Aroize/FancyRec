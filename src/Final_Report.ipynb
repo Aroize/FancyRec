{
 "cells": [
  {
   "cell_type": "code",
   "execution_count": 19,
   "metadata": {},
   "outputs": [],
   "source": [
    "from pyspark import SparkContext\n",
    "from pyspark.sql import SparkSession, Row\n",
    "from utils import ndcg, hr, flood_negative_samples\n",
    "import json\n",
    "import pickle\n",
    "import pandas as pd\n",
    "import numpy as np\n",
    "from tqdm import tqdm\n",
    "import math\n",
    "from collections import Counter\n",
    "import matplotlib.pyplot as plt\n",
    "from pyspark.ml.recommendation import ALS\n",
    "from pyspark.ml.evaluation import RegressionEvaluator\n",
    "from pyspark.sql.functions import col\n",
    "from pyspark.sql.types import *\n",
    "from torch.utils.tensorboard import SummaryWriter\n",
    "from ncf.dataset import ItemDataset, ValidationDataset\n",
    "from ncf.model import GMF, MLP, NeuMF, UserNeuMF, train_ncf, train_user_neu, load_pretrained_weights_neu_mf_from_path, evaluate_neu, evaluate_user_neu\n",
    "from sklearn.model_selection import train_test_split\n",
    "from torchsummaryX import summary\n",
    "from hparams import Hparam\n",
    "import torch\n",
    "import torch.nn as nn\n",
    "from torch.utils.data.dataloader import DataLoader\n",
    "import os\n",
    "from sklearn.neighbors import NearestNeighbors"
   ]
  },
  {
   "cell_type": "code",
   "execution_count": 2,
   "metadata": {},
   "outputs": [],
   "source": [
    "master = 'local[*]'\n",
    "app_name = 'vk_2020_als'\n",
    "sc = SparkContext(master, app_name)\n",
    "spark = SparkSession.builder.master(master).appName(app_name).getOrCreate()"
   ]
  },
  {
   "cell_type": "markdown",
   "metadata": {},
   "source": [
    "### Обработка пользователей"
   ]
  },
  {
   "cell_type": "code",
   "execution_count": 4,
   "metadata": {},
   "outputs": [
    {
     "name": "stdout",
     "output_type": "stream",
     "text": [
      "+---+-------+------+---------+-------+\n",
      "|age|country|gender|playcount|user_id|\n",
      "+---+-------+------+---------+-------+\n",
      "| 24|     US|     f|   221012|      1|\n",
      "+---+-------+------+---------+-------+\n",
      "only showing top 1 row\n",
      "\n"
     ]
    }
   ],
   "source": [
    "def parse_user(user):\n",
    "    user_id = int(user[0])\n",
    "    try:\n",
    "        info_json = json.loads(user[1])\n",
    "        age = info_json['age']\n",
    "        country = info_json['country']\n",
    "        gender = info_json['gender']\n",
    "        playcount = info_json['playcount']\n",
    "    except:\n",
    "        age = 0\n",
    "        country = 'Nan'\n",
    "        gender = 'Nan'\n",
    "        playcount = 0\n",
    "    return (user_id, age, country, gender, playcount)\n",
    "        \n",
    "\n",
    "\n",
    "user_dataframe = spark.read.csv('../data/entities/users.idomaar', header=False, sep='\\t')\n",
    "user_dataframe = user_dataframe.drop('_c0', '_c2')\n",
    "user_rdd = user_dataframe.rdd.map(parse_user)\n",
    "user_dataframe = user_rdd.map(lambda row: Row(user_id=row[0], age=row[1], country=row[2], gender=row[3], playcount=row[4])).toDF()\n",
    "user_dataframe.show(1)"
   ]
  },
  {
   "cell_type": "markdown",
   "metadata": {},
   "source": [
    "### Обработка треков"
   ]
  },
  {
   "cell_type": "code",
   "execution_count": 3,
   "metadata": {},
   "outputs": [
    {
     "name": "stdout",
     "output_type": "stream",
     "text": [
      "+-----+---+---+--------------------+--------------------+\n",
      "|  _c0|_c1|_c2|                 _c3|                 _c4|\n",
      "+-----+---+---+--------------------+--------------------+\n",
      "|track|  0| -1|{\"duration\":-1,\"p...|{\"artists\":[{\"typ...|\n",
      "+-----+---+---+--------------------+--------------------+\n",
      "only showing top 1 row\n",
      "\n"
     ]
    }
   ],
   "source": [
    "tracks_dataframe = spark.read.csv('../data/entities/tracks.idomaar', sep='\\t', header=False)\n",
    "tracks_dataframe.show(1)"
   ]
  },
  {
   "cell_type": "code",
   "execution_count": 4,
   "metadata": {},
   "outputs": [
    {
     "name": "stdout",
     "output_type": "stream",
     "text": [
      "+---------+--------+----+--------+\n",
      "|artist_id|duration|tags|track_id|\n",
      "+---------+--------+----+--------+\n",
      "|        0|      -1|  []|       0|\n",
      "+---------+--------+----+--------+\n",
      "only showing top 1 row\n",
      "\n"
     ]
    }
   ],
   "source": [
    "def parse_track(track):\n",
    "    track_id = int(track[0])\n",
    "    info_json = json.loads(track[1])\n",
    "    \n",
    "    duration = info_json['duration']\n",
    "    duration = int(duration) if duration is not None else -1\n",
    "    \n",
    "    links_json = json.loads(track[2])\n",
    "    artists = links_json['artists']\n",
    "    # Проверкой было установлено, что для каждой записи указан только один артист (те len(artists) == 1)\n",
    "    assert len(artists) == 1\n",
    "    artist_id = artists[0]['id']\n",
    "    \n",
    "    tags = links_json['tags']\n",
    "    # В некоторых треках вместо пустого листа стоит null\n",
    "    if tags is None:\n",
    "        tags = []\n",
    "    else:\n",
    "        tags = filter(lambda obj: obj['type'] == 'tag', tags)\n",
    "        tags = list(map(lambda obj: obj['id'], tags))\n",
    "    return (track_id, artist_id, duration, tags)\n",
    "\n",
    "tracks_dataframe = tracks_dataframe.drop('_c0', '_c2')\n",
    "tracks_rdd = tracks_dataframe.rdd.map(parse_track)\n",
    "tracks_dataframe = tracks_rdd.map(lambda row: Row(track_id=row[0], artist_id=row[1], duration=row[2], tags=row[3])).toDF()\n",
    "tracks_dataframe.show(1)"
   ]
  },
  {
   "cell_type": "markdown",
   "metadata": {},
   "source": [
    "### Обработка сессий"
   ]
  },
  {
   "cell_type": "code",
   "execution_count": 5,
   "metadata": {},
   "outputs": [
    {
     "name": "stdout",
     "output_type": "stream",
     "text": [
      "+-------------+------+----------+--------------------+\n",
      "|          _c0|   _c1|       _c2|                 _c3|\n",
      "+-------------+------+----------+--------------------+\n",
      "|event.session|287144|1390231051|{\"numtracks\":23,\"...|\n",
      "+-------------+------+----------+--------------------+\n",
      "only showing top 1 row\n",
      "\n"
     ]
    }
   ],
   "source": [
    "session_dataframe = spark.read.csv('../data/relations/sessions.idomaar', sep='\\t', header=False)\n",
    "session_dataframe.show(1)"
   ]
  },
  {
   "cell_type": "code",
   "execution_count": 6,
   "metadata": {},
   "outputs": [
    {
     "name": "stdout",
     "output_type": "stream",
     "text": [
      "+----------+--------------------+-------+\n",
      "| timestamp|              tracks|user_id|\n",
      "+----------+--------------------+-------+\n",
      "|1390231051|[[4698874, 58], [...|  44361|\n",
      "+----------+--------------------+-------+\n",
      "only showing top 1 row\n",
      "\n"
     ]
    }
   ],
   "source": [
    "# Формат файла сессий немного поломаный, там не разделены строки колонок info и links\n",
    "def parse_session(session):\n",
    "    session_timestamp = int(session[0])\n",
    "    splitted = session[1].split()\n",
    "    assert len(splitted) == 2\n",
    "    linked_json = splitted[1]\n",
    "    linked_json = json.loads(linked_json)\n",
    "    \n",
    "    subjects = linked_json['subjects'][0]\n",
    "    objects = linked_json['objects']\n",
    "    \n",
    "    user_id = subjects['id']\n",
    "    \n",
    "    objects = list(filter(lambda track: track['action'] == 'play', objects))\n",
    "    tracks = [(obj['id'], obj['playtime']) for obj in objects]\n",
    "    \n",
    "    return (user_id, session_timestamp, tracks)\n",
    "\n",
    "session_dataframe = session_dataframe.drop('_c0', '_c1')\n",
    "session_rdd = session_dataframe.rdd.map(parse_session)\n",
    "session_dataframe = session_rdd.map(lambda row: Row(user_id=row[0], timestamp=row[1], tracks=row[2])).toDF()\n",
    "session_dataframe.show(1)"
   ]
  },
  {
   "cell_type": "markdown",
   "metadata": {},
   "source": [
    "### Обработка артистов"
   ]
  },
  {
   "cell_type": "code",
   "execution_count": 7,
   "metadata": {},
   "outputs": [
    {
     "name": "stdout",
     "output_type": "stream",
     "text": [
      "+------+------+---+--------------------+---+\n",
      "|   _c0|   _c1|_c2|                 _c3|_c4|\n",
      "+------+------+---+--------------------+---+\n",
      "|person|145148| -1|{\"MBID\":null, \"na...| {}|\n",
      "+------+------+---+--------------------+---+\n",
      "only showing top 1 row\n",
      "\n"
     ]
    }
   ],
   "source": [
    "artist_dataframe = spark.read.csv('../data/entities/persons.idomaar', header=None, sep='\\t')\n",
    "artist_dataframe.show(1)"
   ]
  },
  {
   "cell_type": "code",
   "execution_count": 10,
   "metadata": {},
   "outputs": [
    {
     "name": "stdout",
     "output_type": "stream",
     "text": [
      "+---------+--------------------+\n",
      "|artist_id|           nicknames|\n",
      "+---------+--------------------+\n",
      "|    18689|[[[Allison+Veltz,...|\n",
      "+---------+--------------------+\n",
      "only showing top 1 row\n",
      "\n"
     ]
    }
   ],
   "source": [
    "def parse_artist(artist):\n",
    "    artist_id = int(artist[0])\n",
    "    artist_info_json = json.loads(artist[1])\n",
    "    artist_name = artist_info_json['name']\n",
    "    artist_mbid = artist_info_json['MBID']\n",
    "    return (artist_id, (artist_name, artist_mbid))\n",
    "\n",
    "artist_dataframe = artist_dataframe.drop('_c0', '_c2', '_c4')\n",
    "artist_rdd = artist_dataframe.rdd.map(parse_artist).groupByKey()\n",
    "artist_dataframe = artist_rdd.map(lambda row: Row(artist_id=row[0], nicknames=row[1])).toDF()\n",
    "artist_dataframe.show(1)"
   ]
  },
  {
   "cell_type": "markdown",
   "metadata": {},
   "source": [
    "### Обработка лайков"
   ]
  },
  {
   "cell_type": "code",
   "execution_count": 3,
   "metadata": {},
   "outputs": [
    {
     "name": "stdout",
     "output_type": "stream",
     "text": [
      "+----------+---+--------------------+\n",
      "|       _c0|_c1|                 _c2|\n",
      "+----------+---+--------------------+\n",
      "|preference|  1|-1 {\"value\":\"love...|\n",
      "+----------+---+--------------------+\n",
      "only showing top 1 row\n",
      "\n"
     ]
    }
   ],
   "source": [
    "likes_dataframe = spark.read.csv('../data/relations/love.idomaar', sep='\\t', header=None)\n",
    "likes_dataframe.show(1)"
   ]
  },
  {
   "cell_type": "code",
   "execution_count": 4,
   "metadata": {},
   "outputs": [
    {
     "name": "stdout",
     "output_type": "stream",
     "text": [
      "+---------+--------+-------+\n",
      "|timestamp|track_id|user_id|\n",
      "+---------+--------+-------+\n",
      "|       -1| 2785601|  44542|\n",
      "+---------+--------+-------+\n",
      "only showing top 1 row\n",
      "\n"
     ]
    }
   ],
   "source": [
    "def parse_like(like):\n",
    "    like = like[0]\n",
    "    rows = like.split()\n",
    "    timestamp = int(rows[0])\n",
    "    json_info = json.loads(rows[2] + rows[3])\n",
    "    subjects = json_info['subjects']\n",
    "    assert len(subjects) == 1\n",
    "    objects = json_info['objects']\n",
    "    assert len(objects) == 1\n",
    "    \n",
    "    uid = subjects[0]['id']\n",
    "    track_id = objects[0]['id']\n",
    "    return (uid, track_id, timestamp)\n",
    "\n",
    "\n",
    "likes_dataframe = likes_dataframe.drop('_c0', '_c1')\n",
    "likes_rdd = likes_dataframe.rdd.map(parse_like)\n",
    "likes_dataframe = likes_rdd.map(lambda row: Row(user_id=row[0], track_id=row[1], timestamp=row[2])).toDF()\n",
    "likes_dataframe.show(1)"
   ]
  },
  {
   "cell_type": "markdown",
   "metadata": {},
   "source": [
    "### Сохраним полученные файлы"
   ]
  },
  {
   "cell_type": "code",
   "execution_count": 6,
   "metadata": {},
   "outputs": [],
   "source": [
    "def dump_rdd(rdd, path):\n",
    "    rdd_list = rdd.collect()\n",
    "    pickle.dump(rdd_list, open(path, 'wb'))\n",
    "    return rdd_list"
   ]
  },
  {
   "cell_type": "code",
   "execution_count": 7,
   "metadata": {},
   "outputs": [],
   "source": [
    "track_list = dump_rdd(tracks_rdd, '../preprocessed_data/track_list.pckl')\n",
    "session_list = dump_rdd(session_rdd, '../preprocessed_data/session_list.pckl')\n",
    "artist_list = dump_rdd(artist_rdd, '../preprocessed_data/artist_list.pckl')\n",
    "likes_list = dump_rdd(likes_rdd, '../preprocessed_data/likes_list.pckl')\n",
    "user_list = dump_rdd(user_rdd, '../preprocessed_data/user_list.pckl')"
   ]
  },
  {
   "cell_type": "markdown",
   "metadata": {},
   "source": [
    "## Препроцессинг для датасета"
   ]
  },
  {
   "cell_type": "code",
   "execution_count": 7,
   "metadata": {},
   "outputs": [
    {
     "data": {
      "text/plain": [
       "33828"
      ]
     },
     "execution_count": 7,
     "metadata": {},
     "output_type": "execute_result"
    }
   ],
   "source": [
    "def is_full_info(user):\n",
    "    age = user[1]\n",
    "    country = user[2]\n",
    "    gender = user[3]\n",
    "    return age != 0 and country != 'Nan' and gender != 'Nan'\n",
    "full_info_users = list(filter(is_full_info, user_list))\n",
    "len(full_info_users)"
   ]
  },
  {
   "cell_type": "code",
   "execution_count": 9,
   "metadata": {},
   "outputs": [
    {
     "data": {
      "text/plain": [
       "30.006414804304125"
      ]
     },
     "execution_count": 9,
     "metadata": {},
     "output_type": "execute_result"
    }
   ],
   "source": [
    "user_ages = list(map(lambda x: x[1], full_info_users))\n",
    "mean_age = np.mean(user_ages)\n",
    "mean_age"
   ]
  },
  {
   "cell_type": "code",
   "execution_count": 10,
   "metadata": {},
   "outputs": [],
   "source": [
    "def set_mean_age(user):\n",
    "    idx = user[0]\n",
    "    country = user[2]\n",
    "    gender = user[3]\n",
    "    age = user[1]\n",
    "    if age == 0:\n",
    "        age = 30\n",
    "    return (idx, age, country, gender)\n",
    "\n",
    "user_list = list(map(set_mean_age, user_list))\n",
    "pickle.dump(user_list, open('../preprocessed_data/user_list.pckl', 'wb'))"
   ]
  },
  {
   "cell_type": "code",
   "execution_count": 12,
   "metadata": {},
   "outputs": [
    {
     "name": "stderr",
     "output_type": "stream",
     "text": [
      "100%|█████████████████████████████████████████████████████████████████████| 2764474/2764474 [00:31<00:00, 88372.46it/s]\n"
     ]
    }
   ],
   "source": [
    "session_list = pickle.load(open('../preprocessed_data/session_list.pckl', 'rb'))\n",
    "track_list = pickle.load(open('../preprocessed_data/track_list.pckl', 'rb'))\n",
    "# Поставим в соответсвие треку - ариста, теги нам не нужны\n",
    "track_to_artist = dict(map(lambda x: (x[0], [x[1], x[2]]), track_list))\n",
    "# Эмпирические значения порогов\n",
    "track_ratio_threshold = 0.3\n",
    "track_sec_threshold = 20\n",
    "artist_sessions = []\n",
    "for session in tqdm(session_list):\n",
    "    user_id, timestamp, tracks = session\n",
    "    artist_list = []\n",
    "    for track in tracks:\n",
    "        track_id, playtime = track\n",
    "        artist_id, duration = track_to_artist[track_id]\n",
    "        assert playtime > 0\n",
    "        if duration > 0:\n",
    "            # playtime в сек, а duration в мс\n",
    "            track_ratio = float(playtime * 10**3) / duration\n",
    "        else:\n",
    "            track_ratio = track_ratio_threshold if playtime >= track_sec_threshold else 0.0\n",
    "        if track_ratio >= track_ratio_threshold:\n",
    "            artist_list.append(artist_id)\n",
    "    artist_sessions.append((user_id, timestamp, artist_list))"
   ]
  },
  {
   "cell_type": "code",
   "execution_count": 13,
   "metadata": {},
   "outputs": [
    {
     "data": {
      "text/plain": [
       "2764474"
      ]
     },
     "execution_count": 13,
     "metadata": {},
     "output_type": "execute_result"
    },
    {
     "data": {
      "image/png": "[encoded data removed]",
      "text/plain": [
       "<Figure size 432x288 with 1 Axes>"
      ]
     },
     "metadata": {
      "needs_background": "light"
     },
     "output_type": "display_data"
    }
   ],
   "source": [
    "# Посмотрим гистограмму частоты встречаемости артистов\n",
    "\n",
    "def get_freq_list(data):\n",
    "    counter = Counter()\n",
    "    for session in data:\n",
    "        for item in session:\n",
    "            counter[item] += 1\n",
    "    return [math.log(v) for _, v in counter.items()], counter\n",
    "\n",
    "artist_sessions = np.asarray(artist_sessions)\n",
    "artist_freq_list, artist_counter = get_freq_list(artist_sessions[:, 2])\n",
    "_ = plt.hist(artist_freq_list, bins=15)\n",
    "len(artist_sessions)"
   ]
  },
  {
   "cell_type": "code",
   "execution_count": 14,
   "metadata": {},
   "outputs": [
    {
     "data": {
      "text/plain": [
       "(1710615, 15496)"
      ]
     },
     "execution_count": 14,
     "metadata": {},
     "output_type": "execute_result"
    },
    {
     "data": {
      "image/png": "[encoded data removed]",
      "text/plain": [
       "<Figure size 432x288 with 1 Axes>"
      ]
     },
     "metadata": {
      "needs_background": "light"
     },
     "output_type": "display_data"
    }
   ],
   "source": [
    "counter = Counter()\n",
    "# Частота встречаемости пользователей в сессиях\n",
    "for uid, _, _ in artist_sessions:\n",
    "    counter[uid] += 1\n",
    "freq = [v for _,v in counter.items()]\n",
    "_ = plt.hist(list(map(lambda x: math.log(x),freq)), bins=25)\n",
    "\n",
    "artist_sessions = list(filter(lambda x: math.log(counter[x[0]]) > 4 and math.log(counter[x[0]]) < 6, artist_sessions))\n",
    "user_set = set()\n",
    "for uid, _, _ in artist_sessions:\n",
    "    user_set.add(uid)\n",
    "# всего сессий и всего уникальных пользователей\n",
    "len(artist_sessions), len(user_set)"
   ]
  },
  {
   "cell_type": "code",
   "execution_count": 15,
   "metadata": {},
   "outputs": [
    {
     "data": {
      "text/plain": [
       "89729"
      ]
     },
     "execution_count": 15,
     "metadata": {},
     "output_type": "execute_result"
    },
    {
     "data": {
      "image/png": "[encoded data removed]",
      "text/plain": [
       "<Figure size 432x288 with 1 Axes>"
      ]
     },
     "metadata": {
      "needs_background": "light"
     },
     "output_type": "display_data"
    }
   ],
   "source": [
    "# Отфильтруем артистов, которые встречаются в сессиях слишком редко\n",
    "filtered_sessions = []\n",
    "for session in artist_sessions:\n",
    "    uid, timestamp, artists = session\n",
    "    artists = list(filter(lambda artist: math.log(artist_counter[artist]) > 2.5, artists))\n",
    "    if len(artists) > 0:\n",
    "        filtered_sessions.append((uid, timestamp, artists))\n",
    "\n",
    "artist_sessions = np.asarray(filtered_sessions)\n",
    "artist_freq_list, artist_counter = get_freq_list(artist_sessions[:, 2])\n",
    "# Частота встречаемости артистов в сессиях\n",
    "_ = plt.hist(artist_freq_list, bins=15)\n",
    "# Всего артистов\n",
    "len(artist_counter)"
   ]
  },
  {
   "cell_type": "code",
   "execution_count": 16,
   "metadata": {},
   "outputs": [
    {
     "name": "stderr",
     "output_type": "stream",
     "text": [
      "100%|████████████████████████████████████████████████████████████████████| 1325347/1325347 [00:05<00:00, 223860.86it/s]\n"
     ]
    }
   ],
   "source": [
    "# Сохраним данные для Item2Vec модели\n",
    "# Для ALS и NeuMF понадобится ещё сделать flatten, чтобы получить записи User;Timestamp;Artist\n",
    "pickle.dump(artist_sessions, open('../preprocessed_data/user_timestamp_[artists].pckl', 'wb'))\n",
    "\n",
    "positive_samples = []\n",
    "# Представляем все сессии в виде User;Timestamp;Artist\n",
    "for session in tqdm(artist_sessions):\n",
    "    uid, timestamp, artists = session\n",
    "    session = [(uid, timestamp, artist) for artist in artists]\n",
    "    positive_samples.extend(session)"
   ]
  },
  {
   "cell_type": "code",
   "execution_count": 17,
   "metadata": {},
   "outputs": [],
   "source": [
    "# Позитивные сэмплы готовы для передачи в модели\n",
    "# Для ALS негативные сэмплы создавать не нужно, тк он сам построит матрицу взаимодействий, и сам будет знать что пользователь \"не оценивал\"\n",
    "# Для NeuMF и UserNeuMF нужно будет явно создать негативные сэмплы и добавить их в датасет\n",
    "# Но для начала разделим данные на train и test согласно timestamp'у"
   ]
  },
  {
   "cell_type": "code",
   "execution_count": 13,
   "metadata": {},
   "outputs": [
    {
     "data": {
      "text/plain": [
       "array([  44542, 2785601])"
      ]
     },
     "execution_count": 13,
     "metadata": {},
     "output_type": "execute_result"
    }
   ],
   "source": [
    "# Обработка лайков\n",
    "likes_list = pickle.load(open('../preprocessed_data/likes_list.pckl', 'rb'))\n",
    "track_list = pickle.load(open('../preprocessed_data/track_list.pckl', 'rb'))\n",
    "track_to_artist = dict(map(lambda x: (x[0], x[1]), track_list))\n",
    "likes_list = np.asarray(likes_list)[:, :2]\n",
    "likes_list[0]"
   ]
  },
  {
   "cell_type": "code",
   "execution_count": 15,
   "metadata": {},
   "outputs": [],
   "source": [
    "likes_counter = Counter()\n",
    "for uid, track_id in likes_list:\n",
    "    artist_id = track_to_artist[track_id]\n",
    "    pair = (uid, artist_id)\n",
    "    likes_counter[pair] += 1"
   ]
  },
  {
   "cell_type": "code",
   "execution_count": 16,
   "metadata": {},
   "outputs": [
    {
     "data": {
      "text/plain": [
       "873284"
      ]
     },
     "execution_count": 16,
     "metadata": {},
     "output_type": "execute_result"
    }
   ],
   "source": [
    "len(likes_counter)"
   ]
  },
  {
   "cell_type": "code",
   "execution_count": 18,
   "metadata": {},
   "outputs": [
    {
     "data": {
      "image/png": "[encoded data removed]",
      "text/plain": [
       "<Figure size 432x288 with 1 Axes>"
      ]
     },
     "metadata": {
      "needs_background": "light"
     },
     "output_type": "display_data"
    }
   ],
   "source": [
    "freq = [math.log(v) for _, v in likes_counter.items()]\n",
    "# Распределение количества лайков на пары (user, artist)\n",
    "_ = plt.hist(freq, bins=20)"
   ]
  },
  {
   "cell_type": "code",
   "execution_count": 19,
   "metadata": {},
   "outputs": [],
   "source": [
    "pickle.dump(likes_counter, open('../preprocessed_data/likes_counter.pckl', 'wb'))"
   ]
  },
  {
   "cell_type": "markdown",
   "metadata": {},
   "source": [
    "## Train-test-split и выбор метрик"
   ]
  },
  {
   "cell_type": "code",
   "execution_count": 18,
   "metadata": {},
   "outputs": [],
   "source": [
    "positive_dataset = pd.DataFrame(positive_samples, columns=['uid', 'timestamp', 'artist'])"
   ]
  },
  {
   "cell_type": "code",
   "execution_count": 19,
   "metadata": {},
   "outputs": [],
   "source": [
    "# Идея разбиения на timestamp - каждому timestamp'у даём некоторый ранг, в пределах от 0 до 1. Всё что ниже 0.9 - train data, выше - test\n",
    "ranks = positive_dataset.groupby('uid')['timestamp'].rank(method='first')\n",
    "counts = positive_dataset['uid'].map(positive_dataset.groupby('uid')['timestamp'].apply(len))\n",
    "result = (ranks / counts) > 0.8"
   ]
  },
  {
   "cell_type": "code",
   "execution_count": 20,
   "metadata": {},
   "outputs": [
    {
     "data": {
      "text/plain": [
       "count     14842554\n",
       "unique           2\n",
       "top          False\n",
       "freq      11867793\n",
       "dtype: object"
      ]
     },
     "execution_count": 20,
     "metadata": {},
     "output_type": "execute_result"
    }
   ],
   "source": [
    "result.describe()"
   ]
  },
  {
   "cell_type": "code",
   "execution_count": 21,
   "metadata": {},
   "outputs": [],
   "source": [
    "test_data, train_data = set(), set()\n",
    "splitter = result.values\n",
    "for i, sample in enumerate(positive_samples, 0):\n",
    "    uid, artist = sample[0], sample[2]\n",
    "    if splitter[i] == True:\n",
    "        test_data.add((uid, artist))\n",
    "    else:\n",
    "        train_data.add((uid, artist))"
   ]
  },
  {
   "cell_type": "code",
   "execution_count": 22,
   "metadata": {},
   "outputs": [
    {
     "data": {
      "text/plain": [
       "(2405220, 848790)"
      ]
     },
     "execution_count": 22,
     "metadata": {},
     "output_type": "execute_result"
    }
   ],
   "source": [
    "len(train_data), len(test_data)"
   ]
  },
  {
   "cell_type": "code",
   "execution_count": 23,
   "metadata": {},
   "outputs": [],
   "source": [
    "# Теперь, когда тестовая и обучающая выборки готовы - выбор метрик\n",
    "# В качестве метрик я выбрал Hit Rate at K и Normalized Discounted Cumulative Gain at K\n",
    "# Когда нужно будет вычислять точность модели, для каждого пользователя из тестовой выборки мы предскажем top-K рекомендаций\n",
    "# И проверим, на сколько совпало с реальными данными в тестовом датасете \n",
    "# мы поделили его по timestamp'у, поэтому можно сказать, что модель должна предсказать интерес пользователя, и мы проверим, как хорошо она справилась"
   ]
  },
  {
   "cell_type": "code",
   "execution_count": 24,
   "metadata": {},
   "outputs": [],
   "source": [
    "pickle.dump(train_data, open('../preprocessed_data/train_data.pckl', 'wb'))\n",
    "pickle.dump(test_data, open('../preprocessed_data/test_data.pckl', 'wb'))"
   ]
  },
  {
   "cell_type": "markdown",
   "metadata": {},
   "source": [
    "### Baseline - Spark ALS"
   ]
  },
  {
   "cell_type": "code",
   "execution_count": 5,
   "metadata": {},
   "outputs": [],
   "source": [
    "train_data = pickle.load(open('../preprocessed_data/train_data.pckl', 'rb'))\n",
    "test_data = pickle.load(open('../preprocessed_data/test_data.pckl', 'rb'))\n",
    "negative_samples = flood_negative_samples(train_data, test_data)"
   ]
  },
  {
   "cell_type": "code",
   "execution_count": 6,
   "metadata": {},
   "outputs": [],
   "source": [
    "train_data = list(map(lambda x: (x[0], x[1], 1), train_data))\n",
    "negative_samples = list(map(lambda x: (x[0], x[1], 0), negative_samples))\n",
    "train_data.extend(negative_samples)"
   ]
  },
  {
   "cell_type": "code",
   "execution_count": 7,
   "metadata": {},
   "outputs": [],
   "source": [
    "schema = StructType([StructField('user', IntegerType()), StructField('item', IntegerType()), StructField('rating', IntegerType())])\n",
    "spark_train_rdd = sc.parallelize(train_data)\n",
    "spark_train_df = spark.createDataFrame(spark_train_rdd, schema)\n",
    "spark_test_rdd = sc.parallelize(list(map(lambda x: (x[0], x[1], 1),train_data)))\n",
    "spark_test_df = spark.createDataFrame(spark_test_rdd, schema)"
   ]
  },
  {
   "cell_type": "code",
   "execution_count": 8,
   "metadata": {},
   "outputs": [],
   "source": [
    "user_artist_test_dict = spark_test_df.select(['user', 'item']) \\\n",
    "                                    .rdd.map(lambda x: (x['user'], x['item'])) \\\n",
    "                                    .groupByKey() \\\n",
    "                                    .collectAsMap()"
   ]
  },
  {
   "cell_type": "code",
   "execution_count": 9,
   "metadata": {},
   "outputs": [],
   "source": [
    "maxIter=20\n",
    "regParam=1\n",
    "rank=10\n",
    "topK = 100"
   ]
  },
  {
   "cell_type": "code",
   "execution_count": 14,
   "metadata": {},
   "outputs": [],
   "source": [
    "als = ALS(rank=rank, maxIter=maxIter, regParam=regParam, coldStartStrategy='drop')\n",
    "als_model = als.fit(spark_train_df)"
   ]
  },
  {
   "cell_type": "code",
   "execution_count": 11,
   "metadata": {},
   "outputs": [],
   "source": [
    "def evaluate_als(als_model, test_df, user_artist_test_dict):\n",
    "    recommendations = als_model.recommendForUserSubset(test_df.select(['user']), topK).collect()\n",
    "    print('recs are ready')\n",
    "    ndcg_scores = []\n",
    "    hr_scores = []\n",
    "    step = 0\n",
    "    for user, rec in recommendations:\n",
    "        real_items = list(user_artist_test_dict[user])\n",
    "        pred_items = [item[0] for item in rec]\n",
    "        pred_scores = [item[1] for item in rec]\n",
    "        ndcg_score = ndcg(real_items, pred_items, pred_scores)\n",
    "        hr_score = hr(real_items, pred_items)\n",
    "        ndcg_scores.append(ndcg_score)\n",
    "        hr_scores.append(hr_score)\n",
    "    return np.mean(hr_scores), np.mean(ndcg_scores)"
   ]
  },
  {
   "cell_type": "code",
   "execution_count": 15,
   "metadata": {},
   "outputs": [
    {
     "name": "stdout",
     "output_type": "stream",
     "text": [
      "recs are ready\n"
     ]
    },
    {
     "data": {
      "text/plain": [
       "(0.0009764050806849709, 0.0008475165070758779)"
      ]
     },
     "execution_count": 15,
     "metadata": {},
     "output_type": "execute_result"
    }
   ],
   "source": [
    "evaluate_als(als_model, spark_test_df, user_artist_test_dict)"
   ]
  },
  {
   "cell_type": "markdown",
   "metadata": {},
   "source": [
    "## Использование явных рейтингов в Spark ALS"
   ]
  },
  {
   "cell_type": "code",
   "execution_count": 4,
   "metadata": {},
   "outputs": [],
   "source": [
    "likes_counter = pickle.load(open('../preprocessed_data/likes_counter.pckl', 'rb'))\n",
    "likes_data = list(map(lambda k: (int(k[0][0]), int(k[0][1]), int(k[1])), likes_counter.items()))"
   ]
  },
  {
   "cell_type": "code",
   "execution_count": 5,
   "metadata": {},
   "outputs": [],
   "source": [
    "schema = StructType([StructField('user', IntegerType()), StructField('item', IntegerType()), StructField('rating', IntegerType())])\n",
    "spark_likes_rdd = sc.parallelize(likes_data)\n",
    "spark_likes_df = spark.createDataFrame(spark_likes_rdd, schema)"
   ]
  },
  {
   "cell_type": "code",
   "execution_count": 6,
   "metadata": {},
   "outputs": [],
   "source": [
    "spark_likes_train, spark_likes_test = spark_likes_df.randomSplit([0.8, 0.2])"
   ]
  },
  {
   "cell_type": "code",
   "execution_count": 7,
   "metadata": {},
   "outputs": [],
   "source": [
    "user_artist_test_dict = spark_likes_test.select(['user', 'item']) \\\n",
    "                                    .rdd.map(lambda x: (x['user'], x['item'])) \\\n",
    "                                    .groupByKey() \\\n",
    "                                    .collectAsMap()"
   ]
  },
  {
   "cell_type": "code",
   "execution_count": 13,
   "metadata": {},
   "outputs": [],
   "source": [
    "maxIter=20\n",
    "regParam=0.1\n",
    "rank=10\n",
    "topK = 100"
   ]
  },
  {
   "cell_type": "code",
   "execution_count": 15,
   "metadata": {},
   "outputs": [],
   "source": [
    "als = ALS(rank=rank, maxIter=maxIter, regParam=regParam, coldStartStrategy='drop')\n",
    "als_model = als.fit(spark_likes_train)"
   ]
  },
  {
   "cell_type": "code",
   "execution_count": 21,
   "metadata": {},
   "outputs": [
    {
     "name": "stdout",
     "output_type": "stream",
     "text": [
      "recs are ready\n"
     ]
    },
    {
     "data": {
      "text/plain": [
       "(0.00589700553034128, 0.0017013129282348347)"
      ]
     },
     "execution_count": 21,
     "metadata": {},
     "output_type": "execute_result"
    }
   ],
   "source": [
    "evaluate_als(als_model, spark_likes_test, user_artist_test_dict)"
   ]
  },
  {
   "cell_type": "markdown",
   "metadata": {},
   "source": [
    "# NeuMF"
   ]
  },
  {
   "cell_type": "code",
   "execution_count": 2,
   "metadata": {},
   "outputs": [],
   "source": [
    "train_data = pickle.load(open('../preprocessed_data/train_data.pckl', 'rb'))\n",
    "validation_data = pickle.load(open('../preprocessed_data/test_data.pckl', 'rb'))\n",
    "# Нужно создать негативные сэмплы для датасета. число 150 выбрано, чтобы создать негативные сэмплы примерно 1:1 с позитивными\n",
    "negative_samples = flood_negative_samples(train_data, validation_data, samples_per_user=150)"
   ]
  },
  {
   "cell_type": "code",
   "execution_count": 3,
   "metadata": {},
   "outputs": [
    {
     "name": "stderr",
     "output_type": "stream",
     "text": [
      "100%|██████████████████████████████████████████████████████████████████████| 848790/848790 [00:01<00:00, 643541.29it/s]\n"
     ]
    }
   ],
   "source": [
    "# torch.nn.Embedding работает как таблица и требует, чтобы индексы были в границах [0; Длина словаря]\n",
    "# У нас длина словаря соответственно это количество пользователей и артистов\n",
    "user_mapper, item_mapper = ItemDataset.get_mappers(train_data.union(validation_data))\n",
    "# Позитивные сэмплы теперь будут иметь отметку 1\n",
    "train_data = list(map(lambda x: (x[0], x[1], 1), train_data))\n",
    "# Нетивные соответсвенно 0\n",
    "negative_samples = list(map(lambda x: (x[0], x[1], 0), negative_samples))\n",
    "# Нужно слить данные и поделить на тестовую и обучающую выборку\n",
    "train_data.extend(negative_samples)\n",
    "train, test = train_test_split(train_data, train_size=0.8)\n",
    "\n",
    "train_dataset = ItemDataset(train, user_mapper, item_mapper)\n",
    "test_dataset = ItemDataset(test, user_mapper, item_mapper)\n",
    "# Датасет для валидации на метриках HR@20 и NDCG@20\n",
    "validation_dataset = ValidationDataset(validation_data, user_mapper, item_mapper)\n",
    "BATCH_SIZE = 8192\n",
    "train_loader = DataLoader(train_dataset, batch_size=BATCH_SIZE, shuffle=True)\n",
    "test_loader = DataLoader(test_dataset, batch_size=BATCH_SIZE, shuffle=True)"
   ]
  },
  {
   "cell_type": "code",
   "execution_count": 4,
   "metadata": {},
   "outputs": [
    {
     "data": {
      "text/plain": [
       "(15495, 89729)"
      ]
     },
     "execution_count": 4,
     "metadata": {},
     "output_type": "execute_result"
    }
   ],
   "source": [
    "# Соответственно размеры словарей для эмбеддингов\n",
    "len(user_mapper), len(item_mapper)"
   ]
  },
  {
   "cell_type": "code",
   "execution_count": 4,
   "metadata": {},
   "outputs": [
    {
     "name": "stdout",
     "output_type": "stream",
     "text": [
      "================================================================\n",
      "                  Kernel Shape Output Shape   Params Mult-Adds\n",
      "Layer                                                         \n",
      "0_user_embeddings  [10, 15495]   [1024, 10]  154.95k   154.95k\n",
      "1_item_embeddings  [10, 89729]   [1024, 10]  897.29k   897.29k\n",
      "2_out.Linear_0         [10, 1]    [1024, 1]     11.0      10.0\n",
      "3_out.Sigmoid_1              -    [1024, 1]        -         -\n",
      "----------------------------------------------------------------\n",
      "                         Totals\n",
      "Total params          1.052251M\n",
      "Trainable params      1.052251M\n",
      "Non-trainable params        0.0\n",
      "Mult-Adds              1.05225M\n",
      "================================================================\n",
      "=========================================================================\n",
      "                        Kernel Shape Output Shape      Params   Mult-Adds\n",
      "Layer                                                                    \n",
      "0_user_embeddings       [128, 15495]  [1024, 128]    1.98336M    1.98336M\n",
      "1_item_embeddings       [128, 89729]  [1024, 128]  11.485312M  11.485312M\n",
      "2_hidden.Linear_0         [256, 128]  [1024, 128]     32.896k     32.768k\n",
      "3_hidden.LeakyReLU_1               -  [1024, 128]           -           -\n",
      "4_hidden.Dropout_2                 -  [1024, 128]           -           -\n",
      "5_hidden.Linear_3          [128, 64]   [1024, 64]      8.256k      8.192k\n",
      "6_hidden.LeakyReLU_4               -   [1024, 64]           -           -\n",
      "7_hidden.Dropout_5                 -   [1024, 64]           -           -\n",
      "8_hidden.Linear_6           [64, 32]   [1024, 32]       2.08k      2.048k\n",
      "9_hidden.LeakyReLU_7               -   [1024, 32]           -           -\n",
      "10_hidden.Dropout_8                -   [1024, 32]           -           -\n",
      "11_hidden.Linear_9          [32, 16]   [1024, 16]       528.0       512.0\n",
      "12_hidden.LeakyReLU_10             -   [1024, 16]           -           -\n",
      "13_hidden.Dropout_11               -   [1024, 16]           -           -\n",
      "14_out.Linear_0              [16, 1]    [1024, 1]        17.0        16.0\n",
      "15_out.Sigmoid_1                   -    [1024, 1]           -           -\n",
      "-------------------------------------------------------------------------\n",
      "                          Totals\n",
      "Total params          13.512449M\n",
      "Trainable params      13.512449M\n",
      "Non-trainable params         0.0\n",
      "Mult-Adds             13.512208M\n",
      "=========================================================================\n"
     ]
    }
   ],
   "source": [
    "config = Hparam('config.yaml')\n",
    "gmf_model = GMF(config.gmf)\n",
    "mlp_model = MLP(config.mlp)\n",
    "a, b = [torch.zeros((1024)).long() for _ in range(2)]\n",
    "_ = summary(gmf_model, a, b)\n",
    "_ = summary(mlp_model, a, b)"
   ]
  },
  {
   "cell_type": "code",
   "execution_count": 6,
   "metadata": {},
   "outputs": [],
   "source": [
    "writer = SummaryWriter()\n",
    "device = torch.device('cuda:0' if torch.cuda.is_available() else 'cpu')\n",
    "gmf_model.to(device)\n",
    "mlp_model.to(device)\n",
    "# Как оптимизатор выбран SGD, тк остальные оптимизаторы используют momentum и сохраняют о нём информацию, а тк NeuMF будем дообучать после соединения моделей\n",
    "# Эта информация будет утеряна и он будет хуже обучаться\n",
    "gmf_optim = torch.optim.SGD(gmf_model.parameters(), lr=0.05)\n",
    "mlp_optim = torch.optim.SGD(mlp_model.parameters(), lr=0.05)\n",
    "criterion = nn.BCELoss()"
   ]
  },
  {
   "cell_type": "code",
   "execution_count": 11,
   "metadata": {},
   "outputs": [
    {
     "name": "stdout",
     "output_type": "stream",
     "text": [
      "start training\n"
     ]
    }
   ],
   "source": [
    "# Обучаем GMF и MLP соответственно\n",
    "train_ncf(gmf_model, train_loader, test_loader, validation_dataset, gmf_optim, criterion, device, writer, config.train_gmf)\n",
    "train_ncf(mlp_model, train_loader, test_loader, validation_dataset, mlp_optim, criterion, device, writer, config.train_mlp)"
   ]
  },
  {
   "cell_type": "markdown",
   "metadata": {},
   "source": [
    "<div>\n",
    "    <img src=\"pics\\gmf_test_loss.png\" width=\"200\" height=\"200\">\n",
    "    <img src=\"pics\\gmf_train_loss.png\" width=\"200\" height=\"200\">\n",
    "</div>\n",
    "<div>\n",
    "    <img src=\"pics\\mlp_test_loss.png\" width=\"200\" height=\"200\">\n",
    "    <img src=\"pics\\mlp_train_loss.png\" width=\"200\" height=\"200\">\n",
    "</div>"
   ]
  },
  {
   "cell_type": "code",
   "execution_count": 7,
   "metadata": {},
   "outputs": [],
   "source": [
    "# Соединяем обученые GMF и MLP в NeuMF\n",
    "gmf_path = os.path.join(config.train_gmf.save_path, 'epoch_20.ckpt')\n",
    "mlp_path = os.path.join(config.train_mlp.save_path, 'epoch_20.ckpt')\n",
    "neu_mf = load_pretrained_weights_neu_mf_from_path(gmf_path, config.gmf, mlp_path, config.mlp, config.neu_mf)"
   ]
  },
  {
   "cell_type": "code",
   "execution_count": 8,
   "metadata": {},
   "outputs": [],
   "source": [
    "neu_mf.to(device)\n",
    "# Уже для NeuMF можно использовать любой оптимизатор - никаких ограничений нет\n",
    "neu_mf_optim = torch.optim.Adam(neu_mf.parameters())"
   ]
  },
  {
   "cell_type": "code",
   "execution_count": 10,
   "metadata": {},
   "outputs": [
    {
     "name": "stdout",
     "output_type": "stream",
     "text": [
      "start training\n"
     ]
    }
   ],
   "source": [
    "train_ncf(neu_mf, train_loader, test_loader, validation_dataset, neu_mf_optim, criterion, device, writer, config.train_neu)\n",
    "# В итоге по графику test loss'a можно увидеть, что модель начала оверфититься около 1.5к итераций - 5 эпоха\n",
    "# При этом трейн падает, поэтому это точно уже оверфит\n",
    "# Поэтому для вычисления метрик можно взять 4 чекпоинт модели"
   ]
  },
  {
   "cell_type": "markdown",
   "metadata": {},
   "source": [
    "<div>\n",
    "    <img src=\"pics\\neu_mf_test_loss.png\" width=\"200\" height=\"200\">\n",
    "    <img src=\"pics\\neu_mf_train_loss.png\" width=\"200\" height=\"200\">\n",
    "</div>"
   ]
  },
  {
   "cell_type": "code",
   "execution_count": 7,
   "metadata": {},
   "outputs": [],
   "source": [
    "neu_mf = NeuMF(config.neu_mf)\n",
    "neu_mf.load_state_dict(torch.load('../model_checkpoints/NCF/NEU/epoch_4.ckpt'))\n",
    "neu_mf.to(device)\n",
    "evaluate_neu(neu_mf, validation_dataset, device, writer, config.train_neu)"
   ]
  },
  {
   "cell_type": "markdown",
   "metadata": {},
   "source": [
    "<div>\n",
    "    <img src=\"pics\\neu_mf_hr.png\" width=\"200\" height=\"200\">\n",
    "    <img src=\"pics\\neu_mf_ndcg.png\" width=\"200\" height=\"200\">\n",
    "</div>"
   ]
  },
  {
   "cell_type": "markdown",
   "metadata": {},
   "source": [
    "В итоге с тензоборда можно получить значения:\n",
    "* HR@20 (Max) = 0.7\n",
    "* NDCG@20 (MAX) = 0.771\n",
    "* HR@20 (Mean) = 0.101\n",
    "* NDCG@20 (Mean) = 0.109"
   ]
  },
  {
   "cell_type": "markdown",
   "metadata": {},
   "source": [
    "## NeuMF with User Info"
   ]
  },
  {
   "cell_type": "code",
   "execution_count": 2,
   "metadata": {},
   "outputs": [],
   "source": [
    "# Этот подход будет отличаться только тем, что в MLP модель мы будем добавлять\n",
    "# Фичи связанные с пользователем - возраст, гендер - 0 и 1 (их всего два), id страны, и нормализованное количество прослушиваний\n",
    "# Плюс, как эксперимент, будем пробовать обучать сразу UserNeuMF\n",
    "user_list = pickle.load(open('../preprocessed_data/user_list.pckl', 'rb'))\n",
    "user_features = ItemDataset.user_info_preprocessed(user_list)"
   ]
  },
  {
   "cell_type": "code",
   "execution_count": 21,
   "metadata": {},
   "outputs": [],
   "source": [
    "train_data = pickle.load(open('../preprocessed_data/train_data.pckl', 'rb'))\n",
    "validation_data = pickle.load(open('../preprocessed_data/test_data.pckl', 'rb'))\n",
    "# negative_samples = flood_negative_samples(train_data, validation_data, samples_per_user=150)"
   ]
  },
  {
   "cell_type": "code",
   "execution_count": 22,
   "metadata": {},
   "outputs": [],
   "source": [
    "# Шаги все те же, что и для NeuMF, только в датасеты ещё передаём фичи пользователя\n",
    "user_mapper, item_mapper = ItemDataset.get_mappers(train_data.union(validation_data))\n",
    "train_data = list(map(lambda x: (x[0], x[1], 1), train_data))\n",
    "negative_samples = list(map(lambda x: (x[0], x[1], 0), negative_samples))\n",
    "train_data.extend(negative_samples)\n",
    "\n",
    "train, test = train_test_split(train_data, train_size=0.8)\n",
    "\n",
    "train_dataset = ItemDataset(train, user_mapper, item_mapper, user_features)\n",
    "test_dataset = ItemDataset(test, user_mapper, item_mapper, user_features)\n",
    "\n",
    "validation_dataset = ValidationDataset(validation_data, user_mapper, item_mapper, user_features)\n",
    "\n",
    "BATCH_SIZE = 8192\n",
    "train_loader = DataLoader(train_dataset, batch_size=BATCH_SIZE, shuffle=True)\n",
    "test_loader = DataLoader(test_dataset, batch_size=BATCH_SIZE, shuffle=True)"
   ]
  },
  {
   "cell_type": "code",
   "execution_count": 2,
   "metadata": {},
   "outputs": [
    {
     "name": "stdout",
     "output_type": "stream",
     "text": [
      "=========================================================================\n",
      "                        Kernel Shape Output Shape      Params   Mult-Adds\n",
      "Layer                                                                    \n",
      "0_user_embeddings_mf     [10, 15495]   [1024, 10]     154.95k     154.95k\n",
      "1_item_embeddings_mf     [10, 89729]   [1024, 10]     897.29k     897.29k\n",
      "2_user_embeddings_mlp   [128, 15495]  [1024, 128]    1.98336M    1.98336M\n",
      "3_item_embeddings_mlp   [128, 89729]  [1024, 128]  11.485312M  11.485312M\n",
      "4_hidden.Linear_0         [260, 128]  [1024, 128]     33.408k      33.28k\n",
      "5_hidden.LeakyReLU_1               -  [1024, 128]           -           -\n",
      "6_hidden.Dropout_2                 -  [1024, 128]           -           -\n",
      "7_hidden.Linear_3          [128, 64]   [1024, 64]      8.256k      8.192k\n",
      "8_hidden.LeakyReLU_4               -   [1024, 64]           -           -\n",
      "9_hidden.Dropout_5                 -   [1024, 64]           -           -\n",
      "10_hidden.Linear_6          [64, 32]   [1024, 32]       2.08k      2.048k\n",
      "11_hidden.LeakyReLU_7              -   [1024, 32]           -           -\n",
      "12_hidden.Dropout_8                -   [1024, 32]           -           -\n",
      "13_hidden.Linear_9          [32, 16]   [1024, 16]       528.0       512.0\n",
      "14_hidden.LeakyReLU_10             -   [1024, 16]           -           -\n",
      "15_hidden.Dropout_11               -   [1024, 16]           -           -\n",
      "16_out.Linear_0              [26, 1]    [1024, 1]        27.0        26.0\n",
      "17_out.Sigmoid_1                   -    [1024, 1]           -           -\n",
      "-------------------------------------------------------------------------\n",
      "                          Totals\n",
      "Total params          14.565211M\n",
      "Trainable params      14.565211M\n",
      "Non-trainable params         0.0\n",
      "Mult-Adds              14.56497M\n",
      "=========================================================================\n"
     ]
    }
   ],
   "source": [
    "config = Hparam('config.yaml')\n",
    "user_neu_mf = UserNeuMF(config.neu_mf)\n",
    "a, b = [torch.zeros((1024)).long() for _ in range(2)]\n",
    "c = torch.zeros((1024, 4))\n",
    "_ = summary(user_neu_mf, a, b, c)"
   ]
  },
  {
   "cell_type": "code",
   "execution_count": 6,
   "metadata": {},
   "outputs": [],
   "source": [
    "writer = SummaryWriter()\n",
    "device = torch.device('cuda:0' if torch.cuda.is_available() else 'cpu')\n",
    "user_neu_mf.to(device)\n",
    "# Ограничений нет, можем использовать любой оптимизатор\n",
    "user_neu_mf_optim = torch.optim.Adam(user_neu_mf.parameters())\n",
    "criterion = nn.BCELoss()"
   ]
  },
  {
   "cell_type": "code",
   "execution_count": 29,
   "metadata": {},
   "outputs": [
    {
     "name": "stdout",
     "output_type": "stream",
     "text": [
      "start training\n"
     ]
    }
   ],
   "source": [
    "train_user_neu(user_neu_mf, train_loader, test_loader, validation_dataset, user_neu_mf_optim, criterion, device, writer, config.train_neu)\n",
    "# UserNeuMF постигла участь NeuMF и он заоверфитился после 7 эпохи"
   ]
  },
  {
   "cell_type": "code",
   "execution_count": 6,
   "metadata": {},
   "outputs": [],
   "source": [
    "user_neu_mf.load_state_dict(torch.load('../model_checkpoints/NCF/NEUUSR/epoch_5.ckpt'))\n",
    "device = torch.device('cuda:0' if torch.cuda.is_available() else 'cpu')\n",
    "user_neu_mf.to(device)\n",
    "writer = SummaryWriter()\n",
    "evaluate_user_neu(user_neu_mf, validation_dataset, device, writer, config.train_neu)"
   ]
  },
  {
   "cell_type": "markdown",
   "metadata": {},
   "source": [
    "В итоге с тензоборда можно получить значения:\n",
    "* HR@20 (Max) = 0.65\n",
    "* NDCG@20 (MAX) = 0.6747\n",
    "* HR@20 (Mean) = 0.09244\n",
    "* NDCG@20 (Mean) = 0.1045"
   ]
  },
  {
   "cell_type": "markdown",
   "metadata": {},
   "source": [
    "## Сравнение моделей и предсказание артистов\n",
    "\n",
    "В сравнении между"
   ]
  },
  {
   "cell_type": "code",
   "execution_count": 35,
   "metadata": {},
   "outputs": [],
   "source": [
    "artists_list = pickle.load(open('../preprocessed_data/artist_list.pckl', 'rb'))"
   ]
  },
  {
   "cell_type": "code",
   "execution_count": 39,
   "metadata": {},
   "outputs": [],
   "source": [
    "artists_map = dict(artists_list)"
   ]
  },
  {
   "cell_type": "code",
   "execution_count": 20,
   "metadata": {},
   "outputs": [],
   "source": [
    "user_neu_mf.to(torch.device('cpu'))\n",
    "artists = torch.stack([torch.tensor(i).long() for i in range(config.train_neu.item_count)])\n",
    "embeddings = user_neu_mf.item_embeddings_mf(artists)\n",
    "embeddings = [i.detach().numpy() for i in embeddings]\n",
    "nearest_neib = NearestNeighbors().fit(embeddings)"
   ]
  },
  {
   "cell_type": "code",
   "execution_count": 33,
   "metadata": {},
   "outputs": [],
   "source": [
    "artist_mapper = {v:k for k,v in item_mapper.items()}\n",
    "# Найдём исполнителей, похожих на Travis Scott\n",
    "Travis_Idx = item_mapper[287560]\n",
    "travis_embedding = embeddings[Travis_Idx]\n",
    "prediction = nearest_neib.kneighbors([travis_embedding], n_neighbors=20, return_distance=False)[0]"
   ]
  },
  {
   "cell_type": "code",
   "execution_count": 42,
   "metadata": {},
   "outputs": [
    {
     "name": "stdout",
     "output_type": "stream",
     "text": [
      "Rammstien\n",
      "The+Mouse+Outfit\n",
      "Noah+Howard+Group\n",
      "Zilch\n",
      "Giacinto+Scelsi\n",
      "Capricorn\n",
      "Hatifnats\n",
      "Southern+Culture+On+The+Skids\n",
      "Clever+Girl\n",
      "Klaus+Badelt\n",
      "Klaus+Sch%C3%B8nning\n",
      "Thelonious+Monk+&+John+Coltrane\n",
      "TeV95\n",
      "Sterling+Holloway\n",
      "Mainstay\n",
      "Death+Wolf\n",
      "Shook\n",
      "Fredo+Viola\n",
      "Die+Streuner\n",
      "The+Soundtrack+Tribute+Band\n"
     ]
    }
   ],
   "source": [
    "for idx in prediction:\n",
    "    artist_id = artist_mapper[idx]\n",
    "    print(list(artists_map[artist_id])[0][0])"
   ]
  }
 ],
 "metadata": {
  "kernelspec": {
   "display_name": "Python 3",
   "language": "python",
   "name": "python3"
  },
  "language_info": {
   "codemirror_mode": {
    "name": "ipython",
    "version": 3
   },
   "file_extension": ".py",
   "mimetype": "text/x-python",
   "name": "python",
   "nbconvert_exporter": "python",
   "pygments_lexer": "ipython3",
   "version": "3.6.7"
  }
 },
 "nbformat": 4,
 "nbformat_minor": 4
}
